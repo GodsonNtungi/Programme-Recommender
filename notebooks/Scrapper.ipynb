{
 "cells": [
  {
   "cell_type": "code",
   "execution_count": 53,
   "id": "8ee321f2",
   "metadata": {},
   "outputs": [],
   "source": [
    "from bs4 import BeautifulSoup\n",
    "from pathlib import Path\n",
    "import pandas as pd\n",
    "import numpy as np"
   ]
  },
  {
   "cell_type": "code",
   "execution_count": 46,
   "id": "dcaeeedb",
   "metadata": {},
   "outputs": [],
   "source": [
    "count = 0\n",
    "allcourses = []\n",
    "html_location = Path('Htmlfiles')"
   ]
  },
  {
   "cell_type": "code",
   "execution_count": 47,
   "id": "26babad8",
   "metadata": {},
   "outputs": [
    {
     "data": {
      "text/plain": [
       "WindowsPath('Htmlfiles')"
      ]
     },
     "execution_count": 47,
     "metadata": {},
     "output_type": "execute_result"
    }
   ],
   "source": [
    "html_location"
   ]
  },
  {
   "cell_type": "code",
   "execution_count": 50,
   "id": "43e77962",
   "metadata": {},
   "outputs": [
    {
     "name": "stdout",
     "output_type": "stream",
     "text": [
      "225\n"
     ]
    }
   ],
   "source": [
    "for htmlfile in html_location.glob('*.html'):\n",
    "    with open(htmlfile) as page:\n",
    "        soup = BeautifulSoup(page,'html.parser')\n",
    "        for value in soup.select('#w0 > table > tbody')[0]:\n",
    "            if value.find('a') != -1:\n",
    "                link = value.find('a')\n",
    "                for val in link:\n",
    "                    count += 1\n",
    "                    allcourses.append(str(val))\n",
    "print(count)"
   ]
  },
  {
   "cell_type": "code",
   "execution_count": 52,
   "id": "4a9259fb",
   "metadata": {},
   "outputs": [
    {
     "data": {
      "text/plain": [
       "['BA in Anthropology',\n",
       " 'BA in Archeology',\n",
       " 'BA in Archeology and Geography ',\n",
       " 'BA in Archeology and History ',\n",
       " 'BA in Art and Design',\n",
       " 'BA in Development Studies',\n",
       " 'BA in Film and Television ',\n",
       " 'BA in Geography and Environmental Studies',\n",
       " 'BA in Heritage Management ',\n",
       " 'BA in History',\n",
       " 'BA in Journalism',\n",
       " 'BA in Language Studies',\n",
       " 'BA in Literature',\n",
       " 'BA in Mass Communication',\n",
       " 'BA in Music',\n",
       " 'BA in Philosophy and Ethics ',\n",
       " 'BA in Political Science and Public Administration ',\n",
       " 'BA in Psychology',\n",
       " 'BA in Public Relations and Advertising',\n",
       " 'BA in Sociology',\n",
       " 'BA in Statistics ',\n",
       " 'BA in Theatre Arts',\n",
       " 'BA of Library and Information Studies',\n",
       " 'BA of Social Work ',\n",
       " 'BA with Education (Chinese and English)',\n",
       " 'BA with Education (shared with CoSS) ',\n",
       " 'Bachelor of Architecture',\n",
       " 'Bachelor of Arts in Law Enforcement',\n",
       " 'Bachelor of Arts with Education ',\n",
       " 'Bachelor of Arts with Education ',\n",
       " 'Bachelor of Business Administration (Evening Programme)',\n",
       " 'Bachelor of Commerce in Accounting',\n",
       " 'Bachelor of Commerce in Banking and Financial Services ',\n",
       " 'Bachelor of Commerce in Finance',\n",
       " 'Bachelor of Commerce in Human Resources Management ',\n",
       " 'Bachelor of Commerce in Marketing',\n",
       " 'Bachelor of Commerce in Tourism and Hospitality Management ',\n",
       " 'Bachelor of Education in Adult and Community Education ',\n",
       " 'Bachelor of Education in Arts ',\n",
       " 'Bachelor of Education in Arts ',\n",
       " 'Bachelor of Education in Commerce',\n",
       " 'Bachelor of Education in Early Childhood Education',\n",
       " 'Bachelor of Education in Physical Education and Sport Sciences ',\n",
       " 'Bachelor of Education in Psychology',\n",
       " 'Bachelor of Education in Science ',\n",
       " 'Bachelor of Education in Science ',\n",
       " 'Bachelor of Laws',\n",
       " 'Bachelor of Science in Applied Microbiology and Chemistry',\n",
       " 'Bachelor of Science in Chemistry',\n",
       " 'Bachelor of Science in Chemistry and Physics',\n",
       " 'Bachelor of Science in Petroleum Chemistry',\n",
       " 'Bachelor of Science with Education',\n",
       " 'Bachelor of Science with Education',\n",
       " 'BSc Geology and Geotherrmal Resources',\n",
       " 'BSc in Actuarial Sciences',\n",
       " 'BSc in Agricultural and Natural Resources Economics and Business',\n",
       " 'BSc in Agricultural Engineering and Mechanization ',\n",
       " 'BSc in Applied Zoology',\n",
       " 'BSc in Aquatic Sciences and Fisheries',\n",
       " 'BSc in Beekeeping Science and Technology',\n",
       " 'BSc in Botanical Sciences',\n",
       " 'BSc in Chemical and Process Engineering BSc in Civil Engineering',\n",
       " 'BSc in Chemistry',\n",
       " 'BSc in Computer Engineering and Information Technology ',\n",
       " 'BSc in Computer Science',\n",
       " 'BSc in Electrical Engineering BSc in Mechanical Engineering',\n",
       " 'BSc in Electronic Science and Communication',\n",
       " 'BSc in Food Science and Technology',\n",
       " 'BSc in Geology',\n",
       " 'BSc in Geomatics',\n",
       " 'BSc in Geophysics',\n",
       " 'BSc in Industrial Engineering',\n",
       " 'BSc in Mathematics and Statistics',\n",
       " 'BSc in Metallurgy and Mineral Processing Engineering',\n",
       " 'BSc in Meteorology',\n",
       " 'BSc in Microbiology',\n",
       " 'BSc in Mining Engineering',\n",
       " 'BSc in Molecular Biology and Biotechnology',\n",
       " 'BSc in Petroleum Chemistry',\n",
       " 'BSc in Petroleum Engineering',\n",
       " 'BSc in Quantity Surveying',\n",
       " 'BSc in Telecommunications Engineering',\n",
       " 'BSc in Textile Design and Technology',\n",
       " 'BSc in Textile Engineering',\n",
       " 'BSc in Wildlife Science and Conservation',\n",
       " 'BSc with Computer Science',\n",
       " 'BSc with Geology',\n",
       " 'BSc. with Education',\n",
       " 'Diploma in Journalism and Mass Communication',\n",
       " 'Doctor of Medicine',\n",
       " 'Doctor of Philosophy in Molecular Biosciences (PhD MB) By Coursework and Dissertation',\n",
       " 'Master of Arts in Development Studies',\n",
       " 'MASTER OF BUSINESS ADMINISTRATION (MBA)',\n",
       " 'Master of Science in Physics',\n",
       " 'Masters Of Science In Biochemistry (Coursework And Dissertation)',\n",
       " 'Masters of Science in Chemistry (Coursework and Dissertation)',\n",
       " 'Mining Engineering',\n",
       " 'MSc Biochemistry',\n",
       " 'MSc in  Applied  Science of Materials (Coursework and Dissertation)',\n",
       " 'MSc in Applied Botany by course work and dissertation',\n",
       " 'MSc in Botany by thesis',\n",
       " 'MSc in Mathematics ',\n",
       " 'MSc. Biodiversity & Conservation',\n",
       " 'MSc. in Applied Botany ',\n",
       " 'MSc. in Applied Zoology',\n",
       " 'MSc. in Mathematical modelling ',\n",
       " 'MSc. with Education (MSc. Ed) ',\n",
       " 'PhD Environmental Science ',\n",
       " 'PhD in Botany by thesis',\n",
       " 'PhD in Mathematics ',\n",
       " 'Postgraduate Diploma in Education (PGDE) - Evening',\n",
       " 'Postgraduate Diploma in Meteorology']"
      ]
     },
     "execution_count": 52,
     "metadata": {},
     "output_type": "execute_result"
    }
   ],
   "source": [
    "allcourses"
   ]
  },
  {
   "cell_type": "code",
   "execution_count": 56,
   "id": "1c6f3681",
   "metadata": {},
   "outputs": [],
   "source": [
    "id = np.arange(0,112,1)"
   ]
  },
  {
   "cell_type": "code",
   "execution_count": 58,
   "id": "ba4cd504",
   "metadata": {},
   "outputs": [],
   "source": [
    "df = pd.DataFrame({'id':id,'course':allcourses})"
   ]
  },
  {
   "cell_type": "code",
   "execution_count": 60,
   "id": "85380716",
   "metadata": {},
   "outputs": [],
   "source": [
    "df.to_csv('coursesData.csv',index= False)"
   ]
  }
 ],
 "metadata": {
  "kernelspec": {
   "display_name": "Python 3",
   "language": "python",
   "name": "python3"
  },
  "language_info": {
   "codemirror_mode": {
    "name": "ipython",
    "version": 3
   },
   "file_extension": ".py",
   "mimetype": "text/x-python",
   "name": "python",
   "nbconvert_exporter": "python",
   "pygments_lexer": "ipython3",
   "version": "3.8.8"
  }
 },
 "nbformat": 4,
 "nbformat_minor": 5
}
